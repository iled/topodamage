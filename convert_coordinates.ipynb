{
 "cells": [
  {
   "cell_type": "markdown",
   "metadata": {},
   "source": [
    "# Convert the coordinates (WGS84 Lat+Long) of geotags in pictures from degrees to decimal\n",
    "\n",
    "Two options are included:\n",
    "\n",
    "1. Given a file with the coordinates extracted through a bash script. Each processed picture should have an entry in that file similar to the following example:\n",
    "\n",
    "```\n",
    "/home/arielle/Desktop/TopographicAnalysis/damagePhotos/IMG_0659.JPG\n",
    "    exif:GPSLatitude: 40/1, 28/1, 819/100\n",
    "    exif:GPSLongitude: 80/1, 1/1, 732/100\n",
    "```\n",
    "\n",
    "2. Given a directory (without subdirectories) containing all the pictures which coordinates will be extracted and converted. This requires the installation of the package `exifread`.\n",
    "\n",
    "---\n",
    "\n",
    "Júlio Caineta\n",
    "\n",
    "20 Nov 2017"
   ]
  },
  {
   "cell_type": "code",
   "execution_count": null,
   "metadata": {},
   "outputs": [],
   "source": [
    "from csv import writer\n",
    "import os\n",
    "from __future__ import division"
   ]
  },
  {
   "cell_type": "markdown",
   "metadata": {},
   "source": [
    "This is an auxiliary function taken from another project of mine. It's pretty simple though."
   ]
  },
  {
   "cell_type": "code",
   "execution_count": null,
   "metadata": {
    "collapsed": true
   },
   "outputs": [],
   "source": [
    "def dms2dec(d, m, s):\n",
    "    \"\"\"Convert coordinates in the format (Degrees, Minutes, Seconds) to\n",
    "    decimal.\n",
    "    Parameters\n",
    "    ----------\n",
    "    d : number\n",
    "        Degrees.\n",
    "    m : number\n",
    "        Minutes.\n",
    "    s : number\n",
    "        Seconds.\n",
    "    Returns\n",
    "    -------\n",
    "    float\n",
    "        Coordinates in decimal format.\n",
    "    Notes\n",
    "    -----\n",
    "    Assumes that data is signalled.\n",
    "    The conversion is done by the formula\n",
    "    .. math:: \\operatorname{DEC} = \\operatorname{DEG} + \\operatorname{MIN}/60\n",
    "        + \\operatorname{SEC}/3600.\n",
    "    \"\"\"\n",
    "    return int(d) + float(m) / 60 + float(s) / 3600"
   ]
  },
  {
   "cell_type": "markdown",
   "metadata": {},
   "source": [
    "## Option 1: Using the `imageData` file with the extracted coordinates\n",
    "\n",
    "*Note:* this is assuming the extracted coordinates have a missing sign on the longitude (hence the minus in `lon_w = -dms2dec(d, m, s)`)."
   ]
  },
  {
   "cell_type": "code",
   "execution_count": null,
   "metadata": {
    "collapsed": true
   },
   "outputs": [],
   "source": [
    "fp = '/Users/mac1/Downloads/imageData.txt'"
   ]
  },
  {
   "cell_type": "code",
   "execution_count": null,
   "metadata": {},
   "outputs": [],
   "source": [
    "with open(fp, 'r') as fh, open('coords.csv', 'w') as out:\n",
    "    csvout = writer(out)\n",
    "    try:\n",
    "        while True:\n",
    "            img_no = fh.readline().strip()[-7:-4]\n",
    "            lat_r = fh.readline().strip().split('exif:GPSLatitude: ')[1]\n",
    "            d, m, s = map(eval, lat_r.split(','))\n",
    "            lat_w = dms2dec(d, m, s)\n",
    "            lon_r = fh.readline().strip().split('exif:GPSLongitude: ')[1]\n",
    "            d, m, s = map(eval, lon_r.split(','))\n",
    "            lon_w = -dms2dec(d, m, s)\n",
    "            csvout.writerow([img_no, lat_w, lon_w])\n",
    "            \n",
    "    except:\n",
    "        print 'done'"
   ]
  },
  {
   "cell_type": "markdown",
   "metadata": {},
   "source": [
    "## Option 2: Reading all the pictures in a given directory\n",
    "\n",
    "*Note:* requires `exifread`."
   ]
  },
  {
   "cell_type": "code",
   "execution_count": null,
   "metadata": {
    "collapsed": true
   },
   "outputs": [],
   "source": [
    "picdir = '/Users/mac1/Box Sync/TopoFinalProj/damagePhotos'"
   ]
  },
  {
   "cell_type": "code",
   "execution_count": null,
   "metadata": {
    "collapsed": true
   },
   "outputs": [],
   "source": [
    "import exifread"
   ]
  },
  {
   "cell_type": "code",
   "execution_count": null,
   "metadata": {},
   "outputs": [],
   "source": [
    "with open('coords.csv', 'w') as out:\n",
    "    csvout = writer(out)\n",
    "    for pic in os.listdir(picdir):\n",
    "        with open(os.path.join(picdir, pic), 'rb') as pic_h:\n",
    "            img_no = pic[-7:-4]\n",
    "            tags = exifread.process_file(pic_h)\n",
    "            d, m, s = map(lambda x: x.num / x.den, tags['GPS GPSLatitude'].values)\n",
    "            lat = dms2dec(d, m, s)\n",
    "            d, m, s = map(lambda x: x.num / x.den, tags['GPS GPSLongitude'].values)\n",
    "            lon = -dms2dec(d, m, s)\n",
    "            csvout.writerow([img_no, lat, lon])"
   ]
  }
 ],
 "metadata": {
  "kernelspec": {
   "display_name": "Python 2",
   "language": "python",
   "name": "python2"
  },
  "language_info": {
   "codemirror_mode": {
    "name": "ipython",
    "version": 2
   },
   "file_extension": ".py",
   "mimetype": "text/x-python",
   "name": "python",
   "nbconvert_exporter": "python",
   "pygments_lexer": "ipython2",
   "version": "2.7.14"
  }
 },
 "nbformat": 4,
 "nbformat_minor": 2
}
